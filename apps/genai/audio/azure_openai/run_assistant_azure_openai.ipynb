{
 "cells": [
  {
   "cell_type": "code",
   "execution_count": null,
   "metadata": {},
   "outputs": [],
   "source": [
    "import run_assistant_azure_openai as aoi\n",
    "\n",
    "go = aoi.Assistant()\n",
    "\n",
    "go.create_new_thread()\n",
    "\n",
    "qu = \"first qu\"\n",
    "go.add_message_to_thread(qu)\n",
    "\n",
    "go.run_thread()"
   ]
  },
  {
   "cell_type": "code",
   "execution_count": null,
   "metadata": {},
   "outputs": [],
   "source": [
    "qu = \"next qu\"\n",
    "go.add_message_to_thread(qu)\n",
    "\n",
    "go.run_thread()"
   ]
  },
  {
   "cell_type": "code",
   "execution_count": null,
   "metadata": {},
   "outputs": [],
   "source": []
  }
 ],
 "metadata": {
  "kernelspec": {
   "display_name": "Python 3 (ipykernel)",
   "language": "python",
   "name": "python3"
  },
  "language_info": {
   "codemirror_mode": {
    "name": "ipython",
    "version": 3
   },
   "file_extension": ".py",
   "mimetype": "text/x-python",
   "name": "python",
   "nbconvert_exporter": "python",
   "pygments_lexer": "ipython3",
   "version": "3.12.3"
  }
 },
 "nbformat": 4,
 "nbformat_minor": 2
}
